{
 "cells": [
  {
   "cell_type": "code",
   "execution_count": 1,
   "id": "71b732c0",
   "metadata": {},
   "outputs": [],
   "source": [
    "import pandas as pd\n",
    "from langdetect import detect\n",
    "from pandarallel import pandarallel"
   ]
  },
  {
   "cell_type": "code",
   "execution_count": 2,
   "id": "9f2ee119",
   "metadata": {},
   "outputs": [],
   "source": [
    "tesla_df = pd.read_csv(\"tesla-tweets.csv\")"
   ]
  },
  {
   "cell_type": "code",
   "execution_count": 3,
   "id": "ed1ff26f",
   "metadata": {},
   "outputs": [
    {
     "data": {
      "text/html": [
       "<div>\n",
       "<style scoped>\n",
       "    .dataframe tbody tr th:only-of-type {\n",
       "        vertical-align: middle;\n",
       "    }\n",
       "\n",
       "    .dataframe tbody tr th {\n",
       "        vertical-align: top;\n",
       "    }\n",
       "\n",
       "    .dataframe thead th {\n",
       "        text-align: right;\n",
       "    }\n",
       "</style>\n",
       "<table border=\"1\" class=\"dataframe\">\n",
       "  <thead>\n",
       "    <tr style=\"text-align: right;\">\n",
       "      <th></th>\n",
       "      <th>Date &amp; Time</th>\n",
       "      <th>Profile Picture Link</th>\n",
       "      <th>Twitter ID</th>\n",
       "      <th>Tweet Text</th>\n",
       "      <th>Tweet Link</th>\n",
       "    </tr>\n",
       "  </thead>\n",
       "  <tbody>\n",
       "    <tr>\n",
       "      <th>0</th>\n",
       "      <td>April 10, 2022 at 07:44PM</td>\n",
       "      <td>http://pbs.twimg.com/profile_images/15120745...</td>\n",
       "      <td>@Jessica1988kk</td>\n",
       "      <td>RT @invest_answers: Crypto news, #Bitcoin Whal...</td>\n",
       "      <td>https://twitter.com/Jessica1988kk/status/15131...</td>\n",
       "    </tr>\n",
       "    <tr>\n",
       "      <th>1</th>\n",
       "      <td>April 10, 2022 at 07:45PM</td>\n",
       "      <td>http://pbs.twimg.com/profile_ s/87878355348773...</td>\n",
       "      <td>@JotaGe2014</td>\n",
       "      <td>#Tesla tiene récord de autos vendidos. Es impr...</td>\n",
       "      <td>https://twitter.com/JotaGe2014/status/15131737...</td>\n",
       "    </tr>\n",
       "    <tr>\n",
       "      <th>2</th>\n",
       "      <td>April 10, 2022 at 07:45PM</td>\n",
       "      <td>http://pbs.twimg.com/profile_images/936422368...</td>\n",
       "      <td>@MmeCallas</td>\n",
       "      <td>RT @CottonCodes: 🐒 #love in my #MariaCallas I ...</td>\n",
       "      <td>https://twitter.com/MmeCallas/status/151317374...</td>\n",
       "    </tr>\n",
       "    <tr>\n",
       "      <th>3</th>\n",
       "      <td>April 10, 2022 at 07:45PM</td>\n",
       "      <td>http://pbs.twimg.com/profile_images/146366591...</td>\n",
       "      <td>@BotSecx</td>\n",
       "      <td>RT @CottonCodes: 🐒 #love in my #MariaCallas I ...</td>\n",
       "      <td>https://twitter.com/BotSecx/status/15131737626...</td>\n",
       "    </tr>\n",
       "    <tr>\n",
       "      <th>4</th>\n",
       "      <td>April 10, 2022 at 07:45PM</td>\n",
       "      <td>http://pbs.twimg.com/profile_images/111675859...</td>\n",
       "      <td>@agseh</td>\n",
       "      <td>RT @RupiReportero_: 🙆‍♂️🚘 Al que le robaron la...</td>\n",
       "      <td>https://twitter.com/agseh/status/1513173864829...</td>\n",
       "    </tr>\n",
       "  </tbody>\n",
       "</table>\n",
       "</div>"
      ],
      "text/plain": [
       "                 Date & Time  \\\n",
       "0  April 10, 2022 at 07:44PM   \n",
       "1  April 10, 2022 at 07:45PM   \n",
       "2  April 10, 2022 at 07:45PM   \n",
       "3  April 10, 2022 at 07:45PM   \n",
       "4  April 10, 2022 at 07:45PM   \n",
       "\n",
       "                                Profile Picture Link      Twitter ID  \\\n",
       "0    http://pbs.twimg.com/profile_images/15120745...  @Jessica1988kk   \n",
       "1  http://pbs.twimg.com/profile_ s/87878355348773...     @JotaGe2014   \n",
       "2   http://pbs.twimg.com/profile_images/936422368...      @MmeCallas   \n",
       "3   http://pbs.twimg.com/profile_images/146366591...        @BotSecx   \n",
       "4   http://pbs.twimg.com/profile_images/111675859...          @agseh   \n",
       "\n",
       "                                          Tweet Text  \\\n",
       "0  RT @invest_answers: Crypto news, #Bitcoin Whal...   \n",
       "1  #Tesla tiene récord de autos vendidos. Es impr...   \n",
       "2  RT @CottonCodes: 🐒 #love in my #MariaCallas I ...   \n",
       "3  RT @CottonCodes: 🐒 #love in my #MariaCallas I ...   \n",
       "4  RT @RupiReportero_: 🙆‍♂️🚘 Al que le robaron la...   \n",
       "\n",
       "                                          Tweet Link  \n",
       "0  https://twitter.com/Jessica1988kk/status/15131...  \n",
       "1  https://twitter.com/JotaGe2014/status/15131737...  \n",
       "2  https://twitter.com/MmeCallas/status/151317374...  \n",
       "3  https://twitter.com/BotSecx/status/15131737626...  \n",
       "4  https://twitter.com/agseh/status/1513173864829...  "
      ]
     },
     "execution_count": 3,
     "metadata": {},
     "output_type": "execute_result"
    }
   ],
   "source": [
    "tesla_df.head()"
   ]
  },
  {
   "cell_type": "code",
   "execution_count": 4,
   "id": "310fd3e7",
   "metadata": {},
   "outputs": [
    {
     "data": {
      "text/html": [
       "<div>\n",
       "<style scoped>\n",
       "    .dataframe tbody tr th:only-of-type {\n",
       "        vertical-align: middle;\n",
       "    }\n",
       "\n",
       "    .dataframe tbody tr th {\n",
       "        vertical-align: top;\n",
       "    }\n",
       "\n",
       "    .dataframe thead th {\n",
       "        text-align: right;\n",
       "    }\n",
       "</style>\n",
       "<table border=\"1\" class=\"dataframe\">\n",
       "  <thead>\n",
       "    <tr style=\"text-align: right;\">\n",
       "      <th></th>\n",
       "      <th>Date &amp; Time</th>\n",
       "      <th>Profile Picture Link</th>\n",
       "      <th>Twitter ID</th>\n",
       "      <th>Tweet Text</th>\n",
       "      <th>Tweet Link</th>\n",
       "    </tr>\n",
       "  </thead>\n",
       "  <tbody>\n",
       "    <tr>\n",
       "      <th>151995</th>\n",
       "      <td>November 12, 2022 at 02:20PM</td>\n",
       "      <td>http://pbs.twimg.com/profile_images/153320879...</td>\n",
       "      <td>@FolgendenFolgen</td>\n",
       "      <td>RT @unheilbargut: Erinnert ihr euch, als @elon...</td>\n",
       "      <td>https://twitter.com/FolgendenFolgen/status/159...</td>\n",
       "    </tr>\n",
       "    <tr>\n",
       "      <th>151996</th>\n",
       "      <td>November 12, 2022 at 03:10PM</td>\n",
       "      <td>http://abs.twimg.com/sticky/default_profile_i...</td>\n",
       "      <td>@kerntdennis</td>\n",
       "      <td>RT @unheilbargut: Erinnert ihr euch, als @elon...</td>\n",
       "      <td>https://twitter.com/kerntdennis/status/1591395...</td>\n",
       "    </tr>\n",
       "    <tr>\n",
       "      <th>151997</th>\n",
       "      <td>November 12, 2022 at 03:10PM</td>\n",
       "      <td>http://pbs.twimg.com/profile_images/133838713...</td>\n",
       "      <td>@kadiff651</td>\n",
       "      <td>RT @unheilbargut: Erinnert ihr euch, als @elon...</td>\n",
       "      <td>https://twitter.com/kadiff651/status/159139556...</td>\n",
       "    </tr>\n",
       "    <tr>\n",
       "      <th>151998</th>\n",
       "      <td>November 12, 2022 at 03:10PM</td>\n",
       "      <td>http://pbs.twimg.com/profile_images/121896452...</td>\n",
       "      <td>@TeslaradarB</td>\n",
       "      <td>Nice! skatebambi 🇸🇪 just spotted a 2021 Tesla ...</td>\n",
       "      <td>https://twitter.com/TeslaradarB/status/1591395...</td>\n",
       "    </tr>\n",
       "    <tr>\n",
       "      <th>151999</th>\n",
       "      <td>November 12, 2022 at 03:11PM</td>\n",
       "      <td>http://pbs.twimg.com/profile_images/157116418...</td>\n",
       "      <td>@JandTContent</td>\n",
       "      <td>Crash and burn EVERYWHERE... \\n\\nAnother one b...</td>\n",
       "      <td>https://twitter.com/JandTContent/status/159139...</td>\n",
       "    </tr>\n",
       "  </tbody>\n",
       "</table>\n",
       "</div>"
      ],
      "text/plain": [
       "                         Date & Time  \\\n",
       "151995  November 12, 2022 at 02:20PM   \n",
       "151996  November 12, 2022 at 03:10PM   \n",
       "151997  November 12, 2022 at 03:10PM   \n",
       "151998  November 12, 2022 at 03:10PM   \n",
       "151999  November 12, 2022 at 03:11PM   \n",
       "\n",
       "                                     Profile Picture Link        Twitter ID  \\\n",
       "151995   http://pbs.twimg.com/profile_images/153320879...  @FolgendenFolgen   \n",
       "151996   http://abs.twimg.com/sticky/default_profile_i...      @kerntdennis   \n",
       "151997   http://pbs.twimg.com/profile_images/133838713...        @kadiff651   \n",
       "151998   http://pbs.twimg.com/profile_images/121896452...      @TeslaradarB   \n",
       "151999   http://pbs.twimg.com/profile_images/157116418...     @JandTContent   \n",
       "\n",
       "                                               Tweet Text  \\\n",
       "151995  RT @unheilbargut: Erinnert ihr euch, als @elon...   \n",
       "151996  RT @unheilbargut: Erinnert ihr euch, als @elon...   \n",
       "151997  RT @unheilbargut: Erinnert ihr euch, als @elon...   \n",
       "151998  Nice! skatebambi 🇸🇪 just spotted a 2021 Tesla ...   \n",
       "151999  Crash and burn EVERYWHERE... \\n\\nAnother one b...   \n",
       "\n",
       "                                               Tweet Link  \n",
       "151995  https://twitter.com/FolgendenFolgen/status/159...  \n",
       "151996  https://twitter.com/kerntdennis/status/1591395...  \n",
       "151997  https://twitter.com/kadiff651/status/159139556...  \n",
       "151998  https://twitter.com/TeslaradarB/status/1591395...  \n",
       "151999  https://twitter.com/JandTContent/status/159139...  "
      ]
     },
     "execution_count": 4,
     "metadata": {},
     "output_type": "execute_result"
    }
   ],
   "source": [
    "tesla_df.tail()"
   ]
  },
  {
   "cell_type": "code",
   "execution_count": 5,
   "id": "5e7d9dc3",
   "metadata": {},
   "outputs": [],
   "source": [
    "def detect_en(text):\n",
    "    try:\n",
    "        return detect(text) == 'en'\n",
    "    except:\n",
    "        return False"
   ]
  },
  {
   "cell_type": "code",
   "execution_count": 6,
   "id": "60a1b5e7",
   "metadata": {},
   "outputs": [
    {
     "name": "stdout",
     "output_type": "stream",
     "text": [
      "INFO: Pandarallel will run on 4 workers.\n",
      "INFO: Pandarallel will use standard multiprocessing data transfer (pipe) to transfer data between the main process and workers.\n"
     ]
    }
   ],
   "source": [
    "#remove all rows that are not english \n",
    "pandarallel.initialize(progress_bar=False)\n",
    "tesla_df = tesla_df[tesla_df['Tweet Text'].parallel_apply(detect_en)]"
   ]
  },
  {
   "cell_type": "code",
   "execution_count": 15,
   "id": "f3f6eece",
   "metadata": {},
   "outputs": [],
   "source": [
    "#drop unnecessary colunns\n",
    "tesla_df = tesla_df.drop(columns=['Profile Picture Link', 'Tweet Link'])"
   ]
  },
  {
   "cell_type": "code",
   "execution_count": 10,
   "id": "401943e3",
   "metadata": {},
   "outputs": [
    {
     "data": {
      "text/plain": [
       "56720"
      ]
     },
     "execution_count": 10,
     "metadata": {},
     "output_type": "execute_result"
    }
   ],
   "source": [
    "#the amount of unique IDs... aka probably many bots/repeat users\n",
    "tesla_df[\"Twitter ID\"].nunique()"
   ]
  },
  {
   "cell_type": "code",
   "execution_count": 11,
   "id": "b84c954d",
   "metadata": {},
   "outputs": [],
   "source": [
    "from textblob import TextBlob"
   ]
  },
  {
   "cell_type": "code",
   "execution_count": 12,
   "id": "af077806",
   "metadata": {},
   "outputs": [],
   "source": [
    "#function to get sentiment rating\n",
    "def get_sentiment(text):\n",
    "    return TextBlob(text).sentiment.polarity"
   ]
  },
  {
   "cell_type": "code",
   "execution_count": 13,
   "id": "1eec1daf",
   "metadata": {},
   "outputs": [
    {
     "name": "stdout",
     "output_type": "stream",
     "text": [
      "INFO: Pandarallel will run on 4 workers.\n",
      "INFO: Pandarallel will use standard multiprocessing data transfer (pipe) to transfer data between the main process and workers.\n"
     ]
    }
   ],
   "source": [
    "#new column of sentiment rating\n",
    "pandarallel.initialize(progress_bar=False)\n",
    "tesla_df['Sentiment Rating'] = tesla_df['Tweet Text'].parallel_apply(get_sentiment)"
   ]
  },
  {
   "cell_type": "code",
   "execution_count": 16,
   "id": "80110755",
   "metadata": {},
   "outputs": [
    {
     "data": {
      "text/html": [
       "<div>\n",
       "<style scoped>\n",
       "    .dataframe tbody tr th:only-of-type {\n",
       "        vertical-align: middle;\n",
       "    }\n",
       "\n",
       "    .dataframe tbody tr th {\n",
       "        vertical-align: top;\n",
       "    }\n",
       "\n",
       "    .dataframe thead th {\n",
       "        text-align: right;\n",
       "    }\n",
       "</style>\n",
       "<table border=\"1\" class=\"dataframe\">\n",
       "  <thead>\n",
       "    <tr style=\"text-align: right;\">\n",
       "      <th></th>\n",
       "      <th>Date &amp; Time</th>\n",
       "      <th>Twitter ID</th>\n",
       "      <th>Tweet Text</th>\n",
       "      <th>Sentiment Rating</th>\n",
       "    </tr>\n",
       "  </thead>\n",
       "  <tbody>\n",
       "    <tr>\n",
       "      <th>0</th>\n",
       "      <td>April 10, 2022 at 07:44PM</td>\n",
       "      <td>@Jessica1988kk</td>\n",
       "      <td>RT @invest_answers: Crypto news, #Bitcoin Whal...</td>\n",
       "      <td>0.318182</td>\n",
       "    </tr>\n",
       "    <tr>\n",
       "      <th>2</th>\n",
       "      <td>April 10, 2022 at 07:45PM</td>\n",
       "      <td>@MmeCallas</td>\n",
       "      <td>RT @CottonCodes: 🐒 #love in my #MariaCallas I ...</td>\n",
       "      <td>0.425000</td>\n",
       "    </tr>\n",
       "    <tr>\n",
       "      <th>3</th>\n",
       "      <td>April 10, 2022 at 07:45PM</td>\n",
       "      <td>@BotSecx</td>\n",
       "      <td>RT @CottonCodes: 🐒 #love in my #MariaCallas I ...</td>\n",
       "      <td>0.425000</td>\n",
       "    </tr>\n",
       "    <tr>\n",
       "      <th>5</th>\n",
       "      <td>April 10, 2022 at 07:45PM</td>\n",
       "      <td>@ElTendies</td>\n",
       "      <td>RT @cb_doge: Tesla - A Trillion Dollar Company...</td>\n",
       "      <td>0.083333</td>\n",
       "    </tr>\n",
       "    <tr>\n",
       "      <th>6</th>\n",
       "      <td>April 10, 2022 at 07:45PM</td>\n",
       "      <td>@LauraCory2013</td>\n",
       "      <td>@elonmusk, few #chargingstations in my area. I...</td>\n",
       "      <td>0.000000</td>\n",
       "    </tr>\n",
       "    <tr>\n",
       "      <th>...</th>\n",
       "      <td>...</td>\n",
       "      <td>...</td>\n",
       "      <td>...</td>\n",
       "      <td>...</td>\n",
       "    </tr>\n",
       "    <tr>\n",
       "      <th>151986</th>\n",
       "      <td>November 12, 2022 at 02:18PM</td>\n",
       "      <td>@NamaloomInsan</td>\n",
       "      <td>@stratosathens @alfonslopeztena @elonmusk @tes...</td>\n",
       "      <td>0.333333</td>\n",
       "    </tr>\n",
       "    <tr>\n",
       "      <th>151991</th>\n",
       "      <td>November 12, 2022 at 02:19PM</td>\n",
       "      <td>@DemApples00</td>\n",
       "      <td>#DOGE #DogelonMars ……🚀🌗\\n\\nThe PEOPLES AND OFF...</td>\n",
       "      <td>0.000000</td>\n",
       "    </tr>\n",
       "    <tr>\n",
       "      <th>151992</th>\n",
       "      <td>November 12, 2022 at 02:19PM</td>\n",
       "      <td>@Mrtnl79</td>\n",
       "      <td>RT @HakanHoca22: Elon, my friend, come to Edir...</td>\n",
       "      <td>0.550000</td>\n",
       "    </tr>\n",
       "    <tr>\n",
       "      <th>151993</th>\n",
       "      <td>November 12, 2022 at 02:20PM</td>\n",
       "      <td>@DemApples00</td>\n",
       "      <td>#DOGE #DogelonMars …🚀🌗\\n\\nThe PEOPLES AND OFFI...</td>\n",
       "      <td>0.000000</td>\n",
       "    </tr>\n",
       "    <tr>\n",
       "      <th>151999</th>\n",
       "      <td>November 12, 2022 at 03:11PM</td>\n",
       "      <td>@JandTContent</td>\n",
       "      <td>Crash and burn EVERYWHERE... \\n\\nAnother one b...</td>\n",
       "      <td>0.000000</td>\n",
       "    </tr>\n",
       "  </tbody>\n",
       "</table>\n",
       "<p>123105 rows × 4 columns</p>\n",
       "</div>"
      ],
      "text/plain": [
       "                         Date & Time      Twitter ID  \\\n",
       "0          April 10, 2022 at 07:44PM  @Jessica1988kk   \n",
       "2          April 10, 2022 at 07:45PM      @MmeCallas   \n",
       "3          April 10, 2022 at 07:45PM        @BotSecx   \n",
       "5          April 10, 2022 at 07:45PM      @ElTendies   \n",
       "6          April 10, 2022 at 07:45PM  @LauraCory2013   \n",
       "...                              ...             ...   \n",
       "151986  November 12, 2022 at 02:18PM  @NamaloomInsan   \n",
       "151991  November 12, 2022 at 02:19PM    @DemApples00   \n",
       "151992  November 12, 2022 at 02:19PM        @Mrtnl79   \n",
       "151993  November 12, 2022 at 02:20PM    @DemApples00   \n",
       "151999  November 12, 2022 at 03:11PM   @JandTContent   \n",
       "\n",
       "                                               Tweet Text  Sentiment Rating  \n",
       "0       RT @invest_answers: Crypto news, #Bitcoin Whal...          0.318182  \n",
       "2       RT @CottonCodes: 🐒 #love in my #MariaCallas I ...          0.425000  \n",
       "3       RT @CottonCodes: 🐒 #love in my #MariaCallas I ...          0.425000  \n",
       "5       RT @cb_doge: Tesla - A Trillion Dollar Company...          0.083333  \n",
       "6       @elonmusk, few #chargingstations in my area. I...          0.000000  \n",
       "...                                                   ...               ...  \n",
       "151986  @stratosathens @alfonslopeztena @elonmusk @tes...          0.333333  \n",
       "151991  #DOGE #DogelonMars ……🚀🌗\\n\\nThe PEOPLES AND OFF...          0.000000  \n",
       "151992  RT @HakanHoca22: Elon, my friend, come to Edir...          0.550000  \n",
       "151993  #DOGE #DogelonMars …🚀🌗\\n\\nThe PEOPLES AND OFFI...          0.000000  \n",
       "151999  Crash and burn EVERYWHERE... \\n\\nAnother one b...          0.000000  \n",
       "\n",
       "[123105 rows x 4 columns]"
      ]
     },
     "execution_count": 16,
     "metadata": {},
     "output_type": "execute_result"
    }
   ],
   "source": [
    "tesla_df"
   ]
  },
  {
   "cell_type": "code",
   "execution_count": 19,
   "id": "6850b016",
   "metadata": {},
   "outputs": [
    {
     "data": {
      "text/plain": [
       "'RT @nisargmehta2112: #EVs running on  #BloodBatteries and #ChildLabor being the part of it - A shocking revelation by @WIONews by @palkisu \\n\\n@elonmusk , please share your strategy to rectify this. \\n\\n#Tesla #Volvo #MercedesBenz #Volkswagen #China #DRCongo https://t.co/ccLKPIFVsE'"
      ]
     },
     "execution_count": 19,
     "metadata": {},
     "output_type": "execute_result"
    }
   ],
   "source": [
    "#sanity check\n",
    "min_value_index = tesla_df['Sentiment Rating'].idxmin()\n",
    "min_value_tweet = tesla_df.loc[min_value_index, 'Tweet Text']\n",
    "min_value_tweet"
   ]
  },
  {
   "cell_type": "code",
   "execution_count": 21,
   "id": "93c70565",
   "metadata": {},
   "outputs": [
    {
     "data": {
      "text/plain": [
       "\"RT @cryptoziizii: What time is it?\\nTime to load up santafloki!!\\nWisdom is when you have a bag of santafloki and still bag up more!!\\nLET'S GOOOO!!\\n#btc #doge #crypto #santafloki #bsc #santaflokiarmy #bsc #binance #tesla #elon\\n#savethechildren #coingecko #Cmc https://t.co/DFGSwMuo6Q\""
      ]
     },
     "execution_count": 21,
     "metadata": {},
     "output_type": "execute_result"
    }
   ],
   "source": [
    "#sanity check\n",
    "max_value_index = tesla_df['Sentiment Rating'].idxmax()\n",
    "max_value_tweet = tesla_df.loc[max_value_index, 'Tweet Text']\n",
    "max_value_tweet"
   ]
  },
  {
   "cell_type": "code",
   "execution_count": 26,
   "id": "3130d4b9",
   "metadata": {},
   "outputs": [],
   "source": [
    "# this would remove bots tweeting the same stuff, but there are some people who tweet very similar things\n",
    "# example: DemApples00 tweeted the very similar stuff one min apart but had a different spam link at the end \n",
    "tesla_df.drop_duplicates(subset=['Twitter ID', 'Tweet Text'], inplace=True)"
   ]
  },
  {
   "cell_type": "code",
   "execution_count": 27,
   "id": "8a3a526c",
   "metadata": {},
   "outputs": [
    {
     "data": {
      "text/html": [
       "<div>\n",
       "<style scoped>\n",
       "    .dataframe tbody tr th:only-of-type {\n",
       "        vertical-align: middle;\n",
       "    }\n",
       "\n",
       "    .dataframe tbody tr th {\n",
       "        vertical-align: top;\n",
       "    }\n",
       "\n",
       "    .dataframe thead th {\n",
       "        text-align: right;\n",
       "    }\n",
       "</style>\n",
       "<table border=\"1\" class=\"dataframe\">\n",
       "  <thead>\n",
       "    <tr style=\"text-align: right;\">\n",
       "      <th></th>\n",
       "      <th>Date &amp; Time</th>\n",
       "      <th>Twitter ID</th>\n",
       "      <th>Tweet Text</th>\n",
       "      <th>Sentiment Rating</th>\n",
       "    </tr>\n",
       "  </thead>\n",
       "  <tbody>\n",
       "    <tr>\n",
       "      <th>0</th>\n",
       "      <td>April 10, 2022 at 07:44PM</td>\n",
       "      <td>@Jessica1988kk</td>\n",
       "      <td>RT @invest_answers: Crypto news, #Bitcoin Whal...</td>\n",
       "      <td>0.318182</td>\n",
       "    </tr>\n",
       "    <tr>\n",
       "      <th>2</th>\n",
       "      <td>April 10, 2022 at 07:45PM</td>\n",
       "      <td>@MmeCallas</td>\n",
       "      <td>RT @CottonCodes: 🐒 #love in my #MariaCallas I ...</td>\n",
       "      <td>0.425000</td>\n",
       "    </tr>\n",
       "    <tr>\n",
       "      <th>3</th>\n",
       "      <td>April 10, 2022 at 07:45PM</td>\n",
       "      <td>@BotSecx</td>\n",
       "      <td>RT @CottonCodes: 🐒 #love in my #MariaCallas I ...</td>\n",
       "      <td>0.425000</td>\n",
       "    </tr>\n",
       "    <tr>\n",
       "      <th>5</th>\n",
       "      <td>April 10, 2022 at 07:45PM</td>\n",
       "      <td>@ElTendies</td>\n",
       "      <td>RT @cb_doge: Tesla - A Trillion Dollar Company...</td>\n",
       "      <td>0.083333</td>\n",
       "    </tr>\n",
       "    <tr>\n",
       "      <th>6</th>\n",
       "      <td>April 10, 2022 at 07:45PM</td>\n",
       "      <td>@LauraCory2013</td>\n",
       "      <td>@elonmusk, few #chargingstations in my area. I...</td>\n",
       "      <td>0.000000</td>\n",
       "    </tr>\n",
       "    <tr>\n",
       "      <th>...</th>\n",
       "      <td>...</td>\n",
       "      <td>...</td>\n",
       "      <td>...</td>\n",
       "      <td>...</td>\n",
       "    </tr>\n",
       "    <tr>\n",
       "      <th>151986</th>\n",
       "      <td>November 12, 2022 at 02:18PM</td>\n",
       "      <td>@NamaloomInsan</td>\n",
       "      <td>@stratosathens @alfonslopeztena @elonmusk @tes...</td>\n",
       "      <td>0.333333</td>\n",
       "    </tr>\n",
       "    <tr>\n",
       "      <th>151991</th>\n",
       "      <td>November 12, 2022 at 02:19PM</td>\n",
       "      <td>@DemApples00</td>\n",
       "      <td>#DOGE #DogelonMars ……🚀🌗\\n\\nThe PEOPLES AND OFF...</td>\n",
       "      <td>0.000000</td>\n",
       "    </tr>\n",
       "    <tr>\n",
       "      <th>151992</th>\n",
       "      <td>November 12, 2022 at 02:19PM</td>\n",
       "      <td>@Mrtnl79</td>\n",
       "      <td>RT @HakanHoca22: Elon, my friend, come to Edir...</td>\n",
       "      <td>0.550000</td>\n",
       "    </tr>\n",
       "    <tr>\n",
       "      <th>151993</th>\n",
       "      <td>November 12, 2022 at 02:20PM</td>\n",
       "      <td>@DemApples00</td>\n",
       "      <td>#DOGE #DogelonMars …🚀🌗\\n\\nThe PEOPLES AND OFFI...</td>\n",
       "      <td>0.000000</td>\n",
       "    </tr>\n",
       "    <tr>\n",
       "      <th>151999</th>\n",
       "      <td>November 12, 2022 at 03:11PM</td>\n",
       "      <td>@JandTContent</td>\n",
       "      <td>Crash and burn EVERYWHERE... \\n\\nAnother one b...</td>\n",
       "      <td>0.000000</td>\n",
       "    </tr>\n",
       "  </tbody>\n",
       "</table>\n",
       "<p>120644 rows × 4 columns</p>\n",
       "</div>"
      ],
      "text/plain": [
       "                         Date & Time      Twitter ID  \\\n",
       "0          April 10, 2022 at 07:44PM  @Jessica1988kk   \n",
       "2          April 10, 2022 at 07:45PM      @MmeCallas   \n",
       "3          April 10, 2022 at 07:45PM        @BotSecx   \n",
       "5          April 10, 2022 at 07:45PM      @ElTendies   \n",
       "6          April 10, 2022 at 07:45PM  @LauraCory2013   \n",
       "...                              ...             ...   \n",
       "151986  November 12, 2022 at 02:18PM  @NamaloomInsan   \n",
       "151991  November 12, 2022 at 02:19PM    @DemApples00   \n",
       "151992  November 12, 2022 at 02:19PM        @Mrtnl79   \n",
       "151993  November 12, 2022 at 02:20PM    @DemApples00   \n",
       "151999  November 12, 2022 at 03:11PM   @JandTContent   \n",
       "\n",
       "                                               Tweet Text  Sentiment Rating  \n",
       "0       RT @invest_answers: Crypto news, #Bitcoin Whal...          0.318182  \n",
       "2       RT @CottonCodes: 🐒 #love in my #MariaCallas I ...          0.425000  \n",
       "3       RT @CottonCodes: 🐒 #love in my #MariaCallas I ...          0.425000  \n",
       "5       RT @cb_doge: Tesla - A Trillion Dollar Company...          0.083333  \n",
       "6       @elonmusk, few #chargingstations in my area. I...          0.000000  \n",
       "...                                                   ...               ...  \n",
       "151986  @stratosathens @alfonslopeztena @elonmusk @tes...          0.333333  \n",
       "151991  #DOGE #DogelonMars ……🚀🌗\\n\\nThe PEOPLES AND OFF...          0.000000  \n",
       "151992  RT @HakanHoca22: Elon, my friend, come to Edir...          0.550000  \n",
       "151993  #DOGE #DogelonMars …🚀🌗\\n\\nThe PEOPLES AND OFFI...          0.000000  \n",
       "151999  Crash and burn EVERYWHERE... \\n\\nAnother one b...          0.000000  \n",
       "\n",
       "[120644 rows x 4 columns]"
      ]
     },
     "execution_count": 27,
     "metadata": {},
     "output_type": "execute_result"
    }
   ],
   "source": [
    "tesla_df"
   ]
  }
 ],
 "metadata": {
  "kernelspec": {
   "display_name": "Python 3 (ipykernel)",
   "language": "python",
   "name": "python3"
  },
  "language_info": {
   "codemirror_mode": {
    "name": "ipython",
    "version": 3
   },
   "file_extension": ".py",
   "mimetype": "text/x-python",
   "name": "python",
   "nbconvert_exporter": "python",
   "pygments_lexer": "ipython3",
   "version": "3.9.12"
  }
 },
 "nbformat": 4,
 "nbformat_minor": 5
}
